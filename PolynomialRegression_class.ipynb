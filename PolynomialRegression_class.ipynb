{
 "cells": [
  {
   "cell_type": "markdown",
   "metadata": {},
   "source": [
    "# Polynomial Regression - Class"
   ]
  },
  {
   "cell_type": "code",
   "execution_count": null,
   "metadata": {},
   "outputs": [],
   "source": []
  },
  {
   "cell_type": "code",
   "execution_count": 11,
   "metadata": {},
   "outputs": [
    {
     "name": "stdout",
     "output_type": "stream",
     "text": [
      "(12, 1)\n",
      "(12,)\n"
     ]
    }
   ],
   "source": [
    "import pandas as pd\n",
    "import numpy as np\n",
    "import matplotlib.pyplot as plt\n",
    "#load the dataset \n",
    "dataset = pd.read_csv('claim_per_policy.csv')\n",
    "dataset.head()\n",
    "\n",
    "#X,Y value from dataset\n",
    "x=dataset.iloc[:,:-1].values\n",
    "y=dataset.iloc[:,1].values\n",
    "print(x.shape)\n",
    "print(y.shape)"
   ]
  },
  {
   "cell_type": "code",
   "execution_count": 13,
   "metadata": {},
   "outputs": [
    {
     "data": {
      "image/png": "[encoded data removed]",
      "text/plain": [
       "<Figure size 432x288 with 1 Axes>"
      ]
     },
     "metadata": {
      "needs_background": "light"
     },
     "output_type": "display_data"
    }
   ],
   "source": [
    "#visualize the dataset\n",
    "plt.title('Age vs Claim')\n",
    "plt.xlabel('Age')\n",
    "plt.ylabel('Claims')\n",
    "plt.scatter(x,y)\n",
    "plt.show()"
   ]
  },
  {
   "cell_type": "code",
   "execution_count": 14,
   "metadata": {},
   "outputs": [
    {
     "data": {
      "text/plain": [
       "LinearRegression(copy_X=True, fit_intercept=True, n_jobs=None,\n",
       "         normalize=False)"
      ]
     },
     "execution_count": 14,
     "metadata": {},
     "output_type": "execute_result"
    }
   ],
   "source": [
    "#simple linear regression\n",
    "from sklearn.linear_model import LinearRegression\n",
    "regressor=LinearRegression()\n",
    "regressor.fit(x,y)\n",
    "\n"
   ]
  },
  {
   "cell_type": "code",
   "execution_count": 23,
   "metadata": {},
   "outputs": [
    {
     "data": {
      "text/plain": [
       "LinearRegression(copy_X=True, fit_intercept=True, n_jobs=None,\n",
       "         normalize=False)"
      ]
     },
     "execution_count": 23,
     "metadata": {},
     "output_type": "execute_result"
    }
   ],
   "source": [
    "#polynomial regression for the dataset\n",
    "from sklearn.preprocessing import PolynomialFeatures\n",
    "poly_features=PolynomialFeatures(degree=5)\n",
    "x_poly=poly_features.fit_transform(x)\n",
    "#poly_features.fit(x_poly,y)\n",
    "\n",
    "#Polynomial Linear Regressor\n",
    "poly_regressor=LinearRegression()\n",
    "poly_regressor.fit(x_poly,y)\n",
    "\n"
   ]
  },
  {
   "cell_type": "code",
   "execution_count": 16,
   "metadata": {},
   "outputs": [
    {
     "data": {
      "text/plain": [
       "(12, 1)"
      ]
     },
     "execution_count": 16,
     "metadata": {},
     "output_type": "execute_result"
    }
   ],
   "source": [
    "x.shape\n"
   ]
  },
  {
   "cell_type": "code",
   "execution_count": 17,
   "metadata": {},
   "outputs": [
    {
     "data": {
      "text/plain": [
       "array([[1.00000000e+00, 1.50000000e+01, 2.25000000e+02, 3.37500000e+03,\n",
       "        5.06250000e+04, 7.59375000e+05],\n",
       "       [1.00000000e+00, 2.00000000e+01, 4.00000000e+02, 8.00000000e+03,\n",
       "        1.60000000e+05, 3.20000000e+06],\n",
       "       [1.00000000e+00, 2.50000000e+01, 6.25000000e+02, 1.56250000e+04,\n",
       "        3.90625000e+05, 9.76562500e+06],\n",
       "       [1.00000000e+00, 3.00000000e+01, 9.00000000e+02, 2.70000000e+04,\n",
       "        8.10000000e+05, 2.43000000e+07],\n",
       "       [1.00000000e+00, 3.50000000e+01, 1.22500000e+03, 4.28750000e+04,\n",
       "        1.50062500e+06, 5.25218750e+07],\n",
       "       [1.00000000e+00, 4.00000000e+01, 1.60000000e+03, 6.40000000e+04,\n",
       "        2.56000000e+06, 1.02400000e+08],\n",
       "       [1.00000000e+00, 4.50000000e+01, 2.02500000e+03, 9.11250000e+04,\n",
       "        4.10062500e+06, 1.84528125e+08],\n",
       "       [1.00000000e+00, 5.00000000e+01, 2.50000000e+03, 1.25000000e+05,\n",
       "        6.25000000e+06, 3.12500000e+08],\n",
       "       [1.00000000e+00, 5.50000000e+01, 3.02500000e+03, 1.66375000e+05,\n",
       "        9.15062500e+06, 5.03284375e+08],\n",
       "       [1.00000000e+00, 6.00000000e+01, 3.60000000e+03, 2.16000000e+05,\n",
       "        1.29600000e+07, 7.77600000e+08],\n",
       "       [1.00000000e+00, 6.50000000e+01, 4.22500000e+03, 2.74625000e+05,\n",
       "        1.78506250e+07, 1.16029062e+09],\n",
       "       [1.00000000e+00, 7.00000000e+01, 4.90000000e+03, 3.43000000e+05,\n",
       "        2.40100000e+07, 1.68070000e+09]])"
      ]
     },
     "execution_count": 17,
     "metadata": {},
     "output_type": "execute_result"
    }
   ],
   "source": [
    "x_poly"
   ]
  },
  {
   "cell_type": "code",
   "execution_count": 29,
   "metadata": {},
   "outputs": [
    {
     "name": "stdout",
     "output_type": "stream",
     "text": [
      "Linear Regresion Predction of age 15 is \n",
      " [42601.52564103]\n"
     ]
    }
   ],
   "source": [
    "#simple linear regression - prediction\n",
    "lr_predict=regressor.predict(np.array([[55]]))\n",
    "print('Linear Regresion Predction of age 15 is \\n',lr_predict)"
   ]
  },
  {
   "cell_type": "code",
   "execution_count": 31,
   "metadata": {},
   "outputs": [
    {
     "name": "stdout",
     "output_type": "stream",
     "text": [
      "Polynomial  Regresion Predction of age 15 is \n",
      " [48712.0634666]\n"
     ]
    }
   ],
   "source": [
    "#Polynomial linear regression - prediction\n",
    "ploy_predict=poly_regressor.predict(poly_features.fit_transform(np.array([[56]])))\n",
    "print('Polynomial  Regresion Predction of age 15 is \\n',ploy_predict)"
   ]
  },
  {
   "cell_type": "code",
   "execution_count": 32,
   "metadata": {},
   "outputs": [
    {
     "data": {
      "text/html": [
       "<div>\n",
       "<style scoped>\n",
       "    .dataframe tbody tr th:only-of-type {\n",
       "        vertical-align: middle;\n",
       "    }\n",
       "\n",
       "    .dataframe tbody tr th {\n",
       "        vertical-align: top;\n",
       "    }\n",
       "\n",
       "    .dataframe thead th {\n",
       "        text-align: right;\n",
       "    }\n",
       "</style>\n",
       "<table border=\"1\" class=\"dataframe\">\n",
       "  <thead>\n",
       "    <tr style=\"text-align: right;\">\n",
       "      <th></th>\n",
       "      <th>Age</th>\n",
       "      <th>Claim per policy</th>\n",
       "    </tr>\n",
       "  </thead>\n",
       "  <tbody>\n",
       "    <tr>\n",
       "      <th>0</th>\n",
       "      <td>15</td>\n",
       "      <td>31177</td>\n",
       "    </tr>\n",
       "    <tr>\n",
       "      <th>1</th>\n",
       "      <td>20</td>\n",
       "      <td>34086</td>\n",
       "    </tr>\n",
       "    <tr>\n",
       "      <th>2</th>\n",
       "      <td>25</td>\n",
       "      <td>36867</td>\n",
       "    </tr>\n",
       "    <tr>\n",
       "      <th>3</th>\n",
       "      <td>30</td>\n",
       "      <td>42452</td>\n",
       "    </tr>\n",
       "    <tr>\n",
       "      <th>4</th>\n",
       "      <td>35</td>\n",
       "      <td>44681</td>\n",
       "    </tr>\n",
       "    <tr>\n",
       "      <th>5</th>\n",
       "      <td>40</td>\n",
       "      <td>46986</td>\n",
       "    </tr>\n",
       "    <tr>\n",
       "      <th>6</th>\n",
       "      <td>45</td>\n",
       "      <td>46033</td>\n",
       "    </tr>\n",
       "    <tr>\n",
       "      <th>7</th>\n",
       "      <td>50</td>\n",
       "      <td>47341</td>\n",
       "    </tr>\n",
       "    <tr>\n",
       "      <th>8</th>\n",
       "      <td>55</td>\n",
       "      <td>48762</td>\n",
       "    </tr>\n",
       "    <tr>\n",
       "      <th>9</th>\n",
       "      <td>60</td>\n",
       "      <td>52408</td>\n",
       "    </tr>\n",
       "    <tr>\n",
       "      <th>10</th>\n",
       "      <td>65</td>\n",
       "      <td>58741</td>\n",
       "    </tr>\n",
       "    <tr>\n",
       "      <th>11</th>\n",
       "      <td>70</td>\n",
       "      <td>75856</td>\n",
       "    </tr>\n",
       "  </tbody>\n",
       "</table>\n",
       "</div>"
      ],
      "text/plain": [
       "    Age  Claim per policy\n",
       "0    15             31177\n",
       "1    20             34086\n",
       "2    25             36867\n",
       "3    30             42452\n",
       "4    35             44681\n",
       "5    40             46986\n",
       "6    45             46033\n",
       "7    50             47341\n",
       "8    55             48762\n",
       "9    60             52408\n",
       "10   65             58741\n",
       "11   70             75856"
      ]
     },
     "execution_count": 32,
     "metadata": {},
     "output_type": "execute_result"
    }
   ],
   "source": [
    "dataset\n"
   ]
  },
  {
   "cell_type": "code",
   "execution_count": null,
   "metadata": {},
   "outputs": [],
   "source": []
  }
 ],
 "metadata": {
  "kernelspec": {
   "display_name": "Python 3",
   "language": "python",
   "name": "python3"
  },
  "language_info": {
   "codemirror_mode": {
    "name": "ipython",
    "version": 3
   },
   "file_extension": ".py",
   "mimetype": "text/x-python",
   "name": "python",
   "nbconvert_exporter": "python",
   "pygments_lexer": "ipython3",
   "version": "3.7.3"
  }
 },
 "nbformat": 4,
 "nbformat_minor": 2
}
